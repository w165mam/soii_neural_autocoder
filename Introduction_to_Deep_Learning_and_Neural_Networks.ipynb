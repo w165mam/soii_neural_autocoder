{
  "nbformat": 4,
  "nbformat_minor": 0,
  "metadata": {
    "colab": {
      "provenance": [],
      "include_colab_link": true
    },
    "kernelspec": {
      "name": "python3",
      "display_name": "Python 3"
    },
    "accelerator": "GPU"
  },
  "cells": [
    {
      "cell_type": "markdown",
      "metadata": {
        "id": "view-in-github",
        "colab_type": "text"
      },
      "source": [
        "<a href=\"https://colab.research.google.com/github/w165mam/soii_neural_autocoder/blob/master/Introduction_to_Deep_Learning_and_Neural_Networks.ipynb\" target=\"_parent\"><img src=\"https://colab.research.google.com/assets/colab-badge.svg\" alt=\"Open In Colab\"/></a>"
      ]
    },
    {
      "cell_type": "code",
      "metadata": {
        "id": "NkodPOiLLdog"
      },
      "source": [
        "%matplotlib inline"
      ],
      "execution_count": null,
      "outputs": []
    },
    {
      "cell_type": "markdown",
      "metadata": {
        "id": "MUfTgilkLdoj"
      },
      "source": [
        "# Deep Learning and Neural Networks\n",
        "\n",
        "Deep learning is a subfield of machine learning that seeks to solve problems by learning intermediate data representations. The primary algorithm for deep learning is the deep neural network, and if you've been following developments in Artificial Intelligence over the last decade you have probably heard a lot about them. Among its many recent accomplishments, deep learning techniques are now directly responsible the recent and very dramatic advances in image recognition, speech recognition, and language understanding.\n",
        "\n",
        "Unfortunately, as you will soon see, deep neural networks also much more difficult to build than the models we have seen so far in class. Among the many challenges:\n",
        "1. Deep neural networks often require extraordinary amounts of computation\n",
        "2. Effective training of deep neural networks often relies on a wide variety of poorly understood heuristics\n",
        "3. Deep neural networks tends to have a much larger number of hyperparameters requiring expert tuning\n",
        "\n",
        "We can only partially address the first problem in this class. Specifically, BLS now has a small number of high-end GPU's (Graphical Processing Units). A GPU is basically a very cheap super-computer, optimized for linear algebra operations. Each contains several thousand simple computers with ultra-fast memory interfaces between them so they can rapidly exchange and aggregate information.\n",
        "\n",
        "We will be using these GPU's for our experiments. If you wish to train deep neural networks outside of BLS, Google makes free GPU's available through [Google Colab](https://colab.research.google.com/). GPU's are also relatively affordable, a good buying guide for deep learning applications is available [here](https://blog.slavv.com/picking-a-gpu-for-deep-learning-3d4795c273b9). You are also free to try training neural networks without GPU acceleration, but be warned, unless you are building something very simple, you will be waiting a long time.\n",
        "\n",
        "One consequence of the deep neural networks' exotic hardware needs is that we will also need new software capable of using that hardware. We will use the `tensorflow` library, which is the most popular tool for training deep neural networks. We will also be using the `keras` library, which is a simplified interface on top of tensorflow. A reasonable alternative is the `PyTorch` library, but we will not cover that in this class.\n",
        "\n",
        "# What is a deep neural network?\n",
        "\n",
        "A deep neural network is just an extension of logistic regression, which itself is just an extension of linear regression. Recall the basic equation for a simple linear regression. If the inputs are represented by the variables $x_1, x_2, ..., x_i$, and the weights controlling the influence of these inputs is represented by $w_1, w_2, ..., w_i$ then the equation for linear regression is:\n",
        "\n",
        "$y=w_1x_1 + w_2x_2 + ... + w_ix_i$\n",
        "\n",
        "As we saw in logistic regression, we can modify this one step further, by passing the entire output through the logistic function $f(z)=\\frac{1}{1+e^{-z}}$. This has the effect of contraining the output to be between 0 and 1. Our equation now becomes:\n",
        "\n",
        "$y=f(w_1x_1 + w_2x_2 + ... + w_ix_i)$\n",
        "\n",
        "If we draw this in graphical form, with three inputs, it resembles the following:\n",
        "\n",
        "![logistic regression](https://github.com/ameasure/colab_tutorials/blob/master/Images/artificial%20neuron.png?raw=1)\n",
        "\n",
        "From this perspective, logistic regression shares some similarities with the biological neuron. Like a biological neuron, logistic regression receives inputs from a variety of sources. Like a biological neuron, the influence of these inputs seems to be controlled by the strengths of the connections (represented by weights, in logistic regression). And like a biological neuron, the logistic regression uses this information to produce an output. Hence, an alternate interpretation of logistic regression, the artificial neuron. In neural network speak, this neuron has 4 key components:\n",
        "* three inputs ($x_1, x_2, x_3$)\n",
        "* three weights ($w_1, w_2, w_3$)\n",
        "* an acitivation function ($f(w,x)$, in this case the `logistic` function)\n",
        "* an output (a.k.a. activation) ($y$)\n",
        "\n",
        "Logistic regression does not, of course, acquire any magical new powers by simply changing its name. But interesting things start to happen as we extend our metaphor. What happens when we start connecting these artificial neurons to other artificial neurons, i.e. using the outputs of some neurons and inputs to others?\n",
        "\n",
        "Although we can connect our neural networks in all sorts of patterns, for computational convenience it is common to organize our artificial neurons into layers, and design our neural network by describing how our various layers connect to each other.\n",
        "\n",
        "This might sound exotic, but in fact we have already worked with a layer of artificial neurons, we just didn't know it. A single layer of artificial neurons in which each neuron is connected to all inputs and each uses the multinomial logistic function is exactly equivalent to the multinomial logistic regression we have used so extensively in this class. We will soon see however, that by connecting these layers to other layers, we can address a wide variety of issues we struggled with before. One thing that does not change however, is the fundamental process by which we calculate the weights of our artificial neural network. We still use gradient descent, specifically the following algorithm:\n",
        "1. Randomly initialize the weights of our neurons to small values.\n",
        "2. Choose a loss function (some measure of how poorly our model is predicting the training data)\n",
        "3. Calculate the model's loss on the training data\n",
        "4. Update the weights in the direction that reduces loss (using calculus)\n",
        "5. Repeat steps 3 and 4 until we're happy with the network's performance\n",
        "\n",
        "\n",
        "# Feed Forward Neural Network\n",
        "Enough talk, lets start by building one of the simplest possible neural networks, a feed forward neural network with 1 hidden layer and 1 output layer. Visually, this resembles the following (but with more neurons in each layer).\n",
        "\n",
        "![neural_network](https://github.com/ameasure/colab_tutorials/blob/master/Images/feed_forward_network_wikipedia_300px.png?raw=1)\n",
        "\n",
        "# Note for Colab Users:\n",
        "If you're running this in Google Colab make sure you open up the **Runtime** tab, select **Change runtime type** and select **GPU** as the hardware accelerator. This will make the following computations run much faster. You will also need to execute the following command to copy the msha data to your Colab instance."
      ]
    },
    {
      "cell_type": "code",
      "metadata": {
        "id": "X3t7QWSKOrgN",
        "outputId": "53c7d3b9-7951-4e3f-f425-2e70d8cfc513",
        "colab": {
          "base_uri": "https://localhost:8080/",
          "height": 51
        }
      },
      "source": [
        "!wget --no-clobber 'https://github.com/ameasure/autocoding-class/raw/master/msha.xlsx'"
      ],
      "execution_count": null,
      "outputs": [
        {
          "output_type": "stream",
          "text": [
            "File ‘msha.xlsx’ already there; not retrieving.\n",
            "\n"
          ],
          "name": "stdout"
        }
      ]
    },
    {
      "cell_type": "markdown",
      "metadata": {
        "id": "92YeiO4sLdok"
      },
      "source": [
        "### Preparing the data\n",
        "We'll use our MSHA data to train our first neural network. The process of preparing the training data is mostly similar to the process we used for scikit-learn, with one key difference. Unlike scikit-learn, Keras requires the outputs (the y-values) to be in matrix format where each row corresponds to a training example, each column corresponds to a part-of-body-code, and the column containing the correct code has a value of 1 and the others have a value of 0. Scikit-learn constructed this matrix for us behind the scenes automatically. We can easily perform the same operation for Keras using scikit-learn's LabelBinarizer."
      ]
    },
    {
      "cell_type": "code",
      "metadata": {
        "id": "M8sRKziKLdol",
        "outputId": "b8604476-6c4f-4ade-a22e-748242df2a23",
        "colab": {
          "base_uri": "https://localhost:8080/",
          "height": 51
        }
      },
      "source": [
        "from sklearn.feature_extraction.text import CountVectorizer\n",
        "from sklearn.preprocessing import LabelBinarizer\n",
        "\n",
        "import pandas as pd\n",
        "\n",
        "# read in the data and split it into training and validation\n",
        "df = pd.read_excel('msha.xlsx')\n",
        "df['ACCIDENT_YEAR'] = df['ACCIDENT_DT'].apply(lambda x: x.year)\n",
        "df['ACCIDENT_YEAR'].value_counts()\n",
        "df_train = df[df['ACCIDENT_YEAR'].isin([2010, 2011])].copy()\n",
        "df_valid = df[df['ACCIDENT_YEAR'] == 2012].copy()\n",
        "print('training rows:', len(df_train))\n",
        "print('validation rows:', len(df_valid))\n",
        "\n",
        "# create bag of words features\n",
        "vectorizer = CountVectorizer()\n",
        "vectorizer.fit(df_train['NARRATIVE'])\n",
        "X_train = vectorizer.transform(df_train['NARRATIVE'])\n",
        "X_valid = vectorizer.transform(df_valid['NARRATIVE'])\n",
        "\n",
        "# keras only accepts a one-hot encoding of the training labels\n",
        "# we do that here\n",
        "label_encoder = LabelBinarizer().fit(df_train['INJ_BODY_PART'])\n",
        "y_train = label_encoder.transform(df_train['INJ_BODY_PART'])\n",
        "y_valid = label_encoder.transform(df_valid['INJ_BODY_PART'])\n",
        "n_codes = len(label_encoder.classes_)"
      ],
      "execution_count": null,
      "outputs": [
        {
          "output_type": "stream",
          "text": [
            "training rows: 18681\n",
            "validation rows: 9032\n"
          ],
          "name": "stdout"
        }
      ]
    },
    {
      "cell_type": "code",
      "metadata": {
        "id": "fXwjI5IqLdon",
        "outputId": "d84a4719-ad63-4dd0-d2de-41a67c909326",
        "colab": {
          "base_uri": "https://localhost:8080/",
          "height": 85
        }
      },
      "source": [
        "print(X_train.shape)\n",
        "print(y_train.shape)\n",
        "print(y_train[0])"
      ],
      "execution_count": null,
      "outputs": [
        {
          "output_type": "stream",
          "text": [
            "(18681, 11915)\n",
            "(18681, 46)\n",
            "[0 0 0 0 0 0 0 0 0 0 0 0 0 0 0 0 0 0 0 0 0 0 0 0 0 0 0 0 0 0 0 0 0 0 0 1 0\n",
            " 0 0 0 0 0 0 0 0 0]\n"
          ],
          "name": "stdout"
        }
      ]
    },
    {
      "cell_type": "markdown",
      "metadata": {
        "id": "uCmFyJspLdor"
      },
      "source": [
        "Define the organization of our neural network"
      ]
    },
    {
      "cell_type": "code",
      "metadata": {
        "id": "OaR9dIw-Ldos",
        "outputId": "fc909a2b-a525-40dd-b75e-29954e66e2f7",
        "colab": {
          "base_uri": "https://localhost:8080/",
          "height": 241
        }
      },
      "source": [
        "from keras.models import Model\n",
        "from keras.layers import Dense, Input, Dropout, Concatenate\n",
        "from keras.optimizers import Adam\n",
        "\n",
        "# First, we create an input layer. This tells keras\n",
        "# what the input data will look like. Specifically, that\n",
        "# the input will contain the same number of columns\n",
        "# as the X_train matrix (i.e. the number of features)\n",
        "text_input = Input(shape=(X_train.shape[1],))\n",
        "# Next, we create the first hidden layer.\n",
        "# Dense means every neuron in this layer is connected to every input\n",
        "# units specifies the number of artificial neurons in this layer\n",
        "# activation indicates the activation function that will be used on each neuron\n",
        "# (text_input) indicates that the layer uses output of the text_input layer as its input\n",
        "layer1 = Dense(units=100, activation='relu')(text_input)\n",
        "# Now we specify the ouput layer\n",
        "# it contains one neuron for each part of body code (we want predctions for these)\n",
        "# each neuron uses the softmax activation so that the outputs mimic probabilities\n",
        "# Note: this is identical to a multinomial logistic regression model\n",
        "output = Dense(units=n_codes, activation='softmax')(layer1)\n",
        "\n",
        "# Finally, we tell Keras which layers are the inputs and outputs of our model\n",
        "model = Model(inputs=[text_input], outputs=[output])\n",
        "\n",
        "# We then tell Keras how we plan to fit the model\n",
        "# optimizer - the algorithm used to calculate the neural network's weights\n",
        "#   specifically, we use a variant of gradient descent called Adam\n",
        "#   with a learning rate of .001\n",
        "# loss - specifices the loss function we will use when updating weights\n",
        "# metrics - specifies the validation metrics we will calculate after each epoch\n",
        "optimizer = Adam(lr=.001)\n",
        "model.compile(optimizer=optimizer,\n",
        "              loss='categorical_crossentropy',\n",
        "              metrics=['accuracy'])"
      ],
      "execution_count": null,
      "outputs": [
        {
          "output_type": "stream",
          "text": [
            "Using TensorFlow backend.\n",
            "WARNING: Logging before flag parsing goes to stderr.\n",
            "W0625 16:45:41.522207 140393672824704 deprecation_wrapper.py:119] From /usr/local/lib/python3.6/dist-packages/keras/backend/tensorflow_backend.py:74: The name tf.get_default_graph is deprecated. Please use tf.compat.v1.get_default_graph instead.\n",
            "\n",
            "W0625 16:45:41.536523 140393672824704 deprecation_wrapper.py:119] From /usr/local/lib/python3.6/dist-packages/keras/backend/tensorflow_backend.py:517: The name tf.placeholder is deprecated. Please use tf.compat.v1.placeholder instead.\n",
            "\n",
            "W0625 16:45:41.541007 140393672824704 deprecation_wrapper.py:119] From /usr/local/lib/python3.6/dist-packages/keras/backend/tensorflow_backend.py:4138: The name tf.random_uniform is deprecated. Please use tf.random.uniform instead.\n",
            "\n",
            "W0625 16:45:41.579016 140393672824704 deprecation_wrapper.py:119] From /usr/local/lib/python3.6/dist-packages/keras/optimizers.py:790: The name tf.train.Optimizer is deprecated. Please use tf.compat.v1.train.Optimizer instead.\n",
            "\n",
            "W0625 16:45:41.587526 140393672824704 deprecation_wrapper.py:119] From /usr/local/lib/python3.6/dist-packages/keras/backend/tensorflow_backend.py:3295: The name tf.log is deprecated. Please use tf.math.log instead.\n",
            "\n"
          ],
          "name": "stderr"
        }
      ]
    },
    {
      "cell_type": "markdown",
      "metadata": {
        "id": "PwkmZeysLdov"
      },
      "source": [
        "Examine the model."
      ]
    },
    {
      "cell_type": "code",
      "metadata": {
        "id": "4DCFMS74Ldow",
        "outputId": "fb907bf8-70e8-4486-dc51-b7a7c7a9146e",
        "colab": {
          "base_uri": "https://localhost:8080/",
          "height": 238
        }
      },
      "source": [
        "model.summary()"
      ],
      "execution_count": null,
      "outputs": [
        {
          "output_type": "stream",
          "text": [
            "_________________________________________________________________\n",
            "Layer (type)                 Output Shape              Param #   \n",
            "=================================================================\n",
            "input_1 (InputLayer)         (None, 11915)             0         \n",
            "_________________________________________________________________\n",
            "dense_1 (Dense)              (None, 100)               1191600   \n",
            "_________________________________________________________________\n",
            "dense_2 (Dense)              (None, 46)                4646      \n",
            "=================================================================\n",
            "Total params: 1,196,246\n",
            "Trainable params: 1,196,246\n",
            "Non-trainable params: 0\n",
            "_________________________________________________________________\n"
          ],
          "name": "stdout"
        }
      ]
    },
    {
      "cell_type": "markdown",
      "metadata": {
        "id": "6uUiA8o4Ldo2"
      },
      "source": [
        "Now that we have specified our model, we can fit it to our data."
      ]
    },
    {
      "cell_type": "code",
      "metadata": {
        "id": "7EtKB0j8Ldo3",
        "outputId": "e0e4918a-9ad5-4229-91b4-bdda63e1ba09",
        "colab": {
          "base_uri": "https://localhost:8080/",
          "height": 326
        }
      },
      "source": [
        "# x - the training input to our model\n",
        "# y - the training ouput for our model\n",
        "# batch_size - the number of training examples we use for each gradient update\n",
        "# epochs - the number of full cycles through the training data\n",
        "# validation_data - the data we evaluate the model on at the end of each epoch\n",
        "model.fit(x=X_train, y=y_train,\n",
        "          validation_data=(X_valid, y_valid),\n",
        "          batch_size=32, epochs=5)"
      ],
      "execution_count": null,
      "outputs": [
        {
          "output_type": "stream",
          "text": [
            "W0625 16:45:41.698828 140393672824704 deprecation.py:323] From /usr/local/lib/python3.6/dist-packages/tensorflow/python/ops/math_grad.py:1250: add_dispatch_support.<locals>.wrapper (from tensorflow.python.ops.array_ops) is deprecated and will be removed in a future version.\n",
            "Instructions for updating:\n",
            "Use tf.where in 2.0, which has the same broadcast rule as np.where\n",
            "W0625 16:45:41.744944 140393672824704 deprecation_wrapper.py:119] From /usr/local/lib/python3.6/dist-packages/keras/backend/tensorflow_backend.py:986: The name tf.assign_add is deprecated. Please use tf.compat.v1.assign_add instead.\n",
            "\n"
          ],
          "name": "stderr"
        },
        {
          "output_type": "stream",
          "text": [
            "Train on 18681 samples, validate on 9032 samples\n",
            "Epoch 1/5\n",
            "18681/18681 [==============================] - 5s 250us/step - loss: 1.6969 - acc: 0.6220 - val_loss: 1.0284 - val_acc: 0.7542\n",
            "Epoch 2/5\n",
            "18681/18681 [==============================] - 3s 184us/step - loss: 0.7221 - acc: 0.8237 - val_loss: 0.8976 - val_acc: 0.7624\n",
            "Epoch 3/5\n",
            "18681/18681 [==============================] - 3s 184us/step - loss: 0.4399 - acc: 0.8910 - val_loss: 0.9147 - val_acc: 0.7565\n",
            "Epoch 4/5\n",
            "18681/18681 [==============================] - 4s 188us/step - loss: 0.2911 - acc: 0.9309 - val_loss: 0.9438 - val_acc: 0.7582\n",
            "Epoch 5/5\n",
            "18681/18681 [==============================] - 3s 186us/step - loss: 0.2042 - acc: 0.9539 - val_loss: 1.0058 - val_acc: 0.7471\n"
          ],
          "name": "stdout"
        },
        {
          "output_type": "execute_result",
          "data": {
            "text/plain": [
              "<keras.callbacks.History at 0x7fafd1239ba8>"
            ]
          },
          "metadata": {
            "tags": []
          },
          "execution_count": 7
        }
      ]
    },
    {
      "cell_type": "markdown",
      "metadata": {
        "id": "KjRDv4XJLdo9"
      },
      "source": [
        "What's going on? It's just gradient descent, the same algorithm we used to calculate the parameters of our models before. The main difference is that Keras is now showing us lots of intermediate outputs. In particular, you can see how the loss of the model changes as we grab a new batch of training examples, calculate the loss, and then update the weights. When we get to the end of each epoch you see Keras calculate the accuracy of the model on the validation data set. We do this so we know when to stop training our model, i.e. when the validation performance starts going down it's time to stop because our model is overfitting to the training data. We can plot the pattern below."
      ]
    },
    {
      "cell_type": "code",
      "metadata": {
        "id": "99rjV928Ldo-",
        "outputId": "3a448d26-3e60-49a5-abbd-6215257a3453",
        "colab": {
          "base_uri": "https://localhost:8080/",
          "height": 300
        }
      },
      "source": [
        "from matplotlib import pyplot as plt\n",
        "\n",
        "plt.xlabel('epoch')\n",
        "plt.ylabel('validation accuracy')\n",
        "plt.plot(model.history.history['val_acc'])"
      ],
      "execution_count": null,
      "outputs": [
        {
          "output_type": "execute_result",
          "data": {
            "text/plain": [
              "[<matplotlib.lines.Line2D at 0x7faf91016780>]"
            ]
          },
          "metadata": {
            "tags": []
          },
          "execution_count": 8
        },
        {
          "output_type": "display_data",
          "data": {
            "image/png": "[encoded data removed]",
            "text/plain": [
              "<Figure size 432x288 with 1 Axes>"
            ]
          },
          "metadata": {
            "tags": []
          }
        }
      ]
    },
    {
      "cell_type": "markdown",
      "metadata": {
        "id": "-AzPxtC4LdpC"
      },
      "source": [
        "This is a popular technique for determining how long to train neural networks because neural networks tend to be heavily over-parameterized, if you train them for long enough they can pften overfit the training data very easily.\n",
        "\n",
        "# Using the Model\n",
        "As with scikit-learn models, we can generate the predictions and save them to a dataframe."
      ]
    },
    {
      "cell_type": "code",
      "metadata": {
        "id": "uKiqQAz8LdpD",
        "outputId": "868fbc12-4441-4f3f-8fae-4da1160d69a8",
        "colab": {
          "base_uri": "https://localhost:8080/",
          "height": 598
        }
      },
      "source": [
        "# get the [n_cases, n_classes] predicted probability matrix\n",
        "prediction_prob_matrix = model.predict(X_valid)\n",
        "# get the classes with the highest predicted probability, save them to our dataframe\n",
        "df_valid['PREDICTED_PART'] = label_encoder.inverse_transform(prediction_prob_matrix)\n",
        "# add the predicted probabilities\n",
        "df_valid['PREDICTED_PROB'] = prediction_prob_matrix.max(axis=1)\n",
        "# take a look at what we've got\n",
        "df_valid.head()"
      ],
      "execution_count": null,
      "outputs": [
        {
          "output_type": "execute_result",
          "data": {
            "text/html": [
              "<div>\n",
              "<style scoped>\n",
              "    .dataframe tbody tr th:only-of-type {\n",
              "        vertical-align: middle;\n",
              "    }\n",
              "\n",
              "    .dataframe tbody tr th {\n",
              "        vertical-align: top;\n",
              "    }\n",
              "\n",
              "    .dataframe thead th {\n",
              "        text-align: right;\n",
              "    }\n",
              "</style>\n",
              "<table border=\"1\" class=\"dataframe\">\n",
              "  <thead>\n",
              "    <tr style=\"text-align: right;\">\n",
              "      <th></th>\n",
              "      <th>ACCIDENT_DT</th>\n",
              "      <th>FIPS_STATE_CD</th>\n",
              "      <th>INJ_BODY_PART</th>\n",
              "      <th>INJ_BODY_PART_CD</th>\n",
              "      <th>MINE_ID</th>\n",
              "      <th>NARRATIVE</th>\n",
              "      <th>ACCIDENT_YEAR</th>\n",
              "      <th>PREDICTED_PART</th>\n",
              "      <th>PREDICTED_PROB</th>\n",
              "    </tr>\n",
              "  </thead>\n",
              "  <tbody>\n",
              "    <tr>\n",
              "      <th>2</th>\n",
              "      <td>2012-08-20</td>\n",
              "      <td>24</td>\n",
              "      <td>HIPS (PELVIS/ORGANS/KIDNEYS/BUTTOCKS)</td>\n",
              "      <td>440</td>\n",
              "      <td>1800761</td>\n",
              "      <td>Employee, parked s/c on grade at 16-Block #3 E...</td>\n",
              "      <td>2012</td>\n",
              "      <td>TRUNK, MULTIPLE PARTS</td>\n",
              "      <td>0.304522</td>\n",
              "    </tr>\n",
              "    <tr>\n",
              "      <th>5</th>\n",
              "      <td>2012-02-21</td>\n",
              "      <td>42</td>\n",
              "      <td>BODY SYSTEMS</td>\n",
              "      <td>600</td>\n",
              "      <td>3600017</td>\n",
              "      <td>Possible heart attack.</td>\n",
              "      <td>2012</td>\n",
              "      <td>BODY SYSTEMS</td>\n",
              "      <td>0.593920</td>\n",
              "    </tr>\n",
              "    <tr>\n",
              "      <th>8</th>\n",
              "      <td>2012-10-03</td>\n",
              "      <td>41</td>\n",
              "      <td>SHOULDERS (COLLARBONE/CLAVICLE/SCAPULA)</td>\n",
              "      <td>450</td>\n",
              "      <td>3503757</td>\n",
              "      <td>Employee was cleaning up plant spillage into a...</td>\n",
              "      <td>2012</td>\n",
              "      <td>SHOULDERS (COLLARBONE/CLAVICLE/SCAPULA)</td>\n",
              "      <td>0.513532</td>\n",
              "    </tr>\n",
              "    <tr>\n",
              "      <th>12</th>\n",
              "      <td>2012-01-23</td>\n",
              "      <td>17</td>\n",
              "      <td>FINGER(S)/THUMB</td>\n",
              "      <td>340</td>\n",
              "      <td>1103189</td>\n",
              "      <td>Employee was putting a drag on a shuttle car, ...</td>\n",
              "      <td>2012</td>\n",
              "      <td>FINGER(S)/THUMB</td>\n",
              "      <td>0.999987</td>\n",
              "    </tr>\n",
              "    <tr>\n",
              "      <th>27</th>\n",
              "      <td>2012-05-10</td>\n",
              "      <td>42</td>\n",
              "      <td>HAND (NOT WRIST OR FINGERS)</td>\n",
              "      <td>330</td>\n",
              "      <td>4600016</td>\n",
              "      <td>While using a cutting torch to remove a bearin...</td>\n",
              "      <td>2012</td>\n",
              "      <td>HAND (NOT WRIST OR FINGERS)</td>\n",
              "      <td>0.959524</td>\n",
              "    </tr>\n",
              "  </tbody>\n",
              "</table>\n",
              "</div>"
            ],
            "text/plain": [
              "   ACCIDENT_DT  ...  PREDICTED_PROB\n",
              "2   2012-08-20  ...        0.304522\n",
              "5   2012-02-21  ...        0.593920\n",
              "8   2012-10-03  ...        0.513532\n",
              "12  2012-01-23  ...        0.999987\n",
              "27  2012-05-10  ...        0.959524\n",
              "\n",
              "[5 rows x 9 columns]"
            ]
          },
          "metadata": {
            "tags": []
          },
          "execution_count": 9
        }
      ]
    },
    {
      "cell_type": "markdown",
      "metadata": {
        "id": "tcI2qU3ILdpG"
      },
      "source": [
        "# Regularization\n",
        "\n",
        "Even more so than linear models, neural networks suffer from overfitting. Because they have such a large number of parameters they can easily memorize the data they are trained on. We can use L2-regularization, as we did with our logistic regression models, but for neural networks another popular technique is called `dropout`. In dropout we randomly set the outputs of a fraction of neurons, at each training step, to 0. A popular choice is 50%. This has a strong regularization effect that often improves overall performance. Let's try it out."
      ]
    },
    {
      "cell_type": "code",
      "metadata": {
        "id": "Y1LMKxLcLdpH",
        "outputId": "e8a662e5-ece3-49ef-fdef-fa6f885e1480",
        "colab": {
          "base_uri": "https://localhost:8080/",
          "height": 292
        }
      },
      "source": [
        "text_input = Input(shape=(X_train.shape[1],))\n",
        "layer1 = Dense(units=100, activation='relu')(text_input)\n",
        "dropout = Dropout(0.5)(layer1)\n",
        "output = Dense(units=len(label_encoder.classes_), activation='softmax')(dropout)\n",
        "# specify the inputs and outputs of our model\n",
        "# input is the raw text features\n",
        "# output is the predicted probabilities\n",
        "do_model = Model(inputs=[text_input], outputs=[output])\n",
        "# specify the algorithm for calculating weights 'adam'\n",
        "# specify the loss function 'categorical_crossentropy'\n",
        "# specify the validation metrics we will calculate after each epoch\n",
        "optimizer = Adam(lr=.001)\n",
        "do_model.compile(optimizer=optimizer,\n",
        "                loss='categorical_crossentropy',\n",
        "                metrics=['accuracy'])\n",
        "\n",
        "do_model.fit(x=X_train, y=y_train,\n",
        "            validation_data=(X_valid, y_valid),\n",
        "            batch_size=32, epochs=5)"
      ],
      "execution_count": null,
      "outputs": [
        {
          "output_type": "stream",
          "text": [
            "W0625 16:46:01.346240 140393672824704 deprecation.py:506] From /usr/local/lib/python3.6/dist-packages/keras/backend/tensorflow_backend.py:3445: calling dropout (from tensorflow.python.ops.nn_ops) with keep_prob is deprecated and will be removed in a future version.\n",
            "Instructions for updating:\n",
            "Please use `rate` instead of `keep_prob`. Rate should be set to `rate = 1 - keep_prob`.\n"
          ],
          "name": "stderr"
        },
        {
          "output_type": "stream",
          "text": [
            "Train on 18681 samples, validate on 9032 samples\n",
            "Epoch 1/5\n",
            "18681/18681 [==============================] - 4s 217us/step - loss: 1.9898 - acc: 0.5402 - val_loss: 1.1738 - val_acc: 0.7260\n",
            "Epoch 2/5\n",
            "18681/18681 [==============================] - 4s 199us/step - loss: 1.0470 - acc: 0.7481 - val_loss: 0.9203 - val_acc: 0.7679\n",
            "Epoch 3/5\n",
            "18681/18681 [==============================] - 4s 197us/step - loss: 0.7753 - acc: 0.8085 - val_loss: 0.8553 - val_acc: 0.7748\n",
            "Epoch 4/5\n",
            "18681/18681 [==============================] - 4s 200us/step - loss: 0.6129 - acc: 0.8427 - val_loss: 0.8443 - val_acc: 0.7755\n",
            "Epoch 5/5\n",
            "18681/18681 [==============================] - 4s 199us/step - loss: 0.5019 - acc: 0.8687 - val_loss: 0.8537 - val_acc: 0.7742\n"
          ],
          "name": "stdout"
        },
        {
          "output_type": "execute_result",
          "data": {
            "text/plain": [
              "<keras.callbacks.History at 0x7faf90650518>"
            ]
          },
          "metadata": {
            "tags": []
          },
          "execution_count": 10
        }
      ]
    },
    {
      "cell_type": "code",
      "metadata": {
        "id": "_kZI4n-3hi9f"
      },
      "source": [
        "prediction_prob_matrix = do_model.predict(X_valid)\n",
        "df_valid['PREDICTED_PART'] = label_encoder.inverse_transform(prediction_prob_matrix)\n",
        "df_valid['PREDICTED_PROB'] = prediction_prob_matrix.max(axis=1)"
      ],
      "execution_count": null,
      "outputs": []
    },
    {
      "cell_type": "code",
      "metadata": {
        "id": "QEdr0St1LdpK",
        "outputId": "52e12f8f-0234-4c8d-d4c6-3b0fc7a8c08a",
        "colab": {
          "base_uri": "https://localhost:8080/",
          "height": 300
        }
      },
      "source": [
        "plt.ylabel('validation accuracy')\n",
        "plt.xlabel('epoch')\n",
        "plt.plot(do_model.history.history['val_acc'], label='with dropout')\n",
        "plt.plot(model.history.history['val_acc'], label='without dropout')\n",
        "plt.legend()"
      ],
      "execution_count": null,
      "outputs": [
        {
          "output_type": "execute_result",
          "data": {
            "text/plain": [
              "<matplotlib.legend.Legend at 0x7faf90282b38>"
            ]
          },
          "metadata": {
            "tags": []
          },
          "execution_count": 12
        },
        {
          "output_type": "display_data",
          "data": {
            "image/png": "[encoded data removed]",
            "text/plain": [
              "<Figure size 432x288 with 1 Axes>"
            ]
          },
          "metadata": {
            "tags": []
          }
        }
      ]
    },
    {
      "cell_type": "markdown",
      "metadata": {
        "id": "eDu8JeZrLdpQ"
      },
      "source": [
        "As you can see, adding dropout improved the overall performance of our model and decreased overfitting."
      ]
    },
    {
      "cell_type": "markdown",
      "metadata": {
        "id": "y4mQC6oynGaT"
      },
      "source": [
        "# Uncertainty Estimates and \"Bayesian Neural Networks\"\n",
        "We have already seen that our model's probability scores give us one useful measure of uncertainty, but there is an important caveat. The model's probability scores only reflect uncertainty observed in the training data, not uncertainty that we have learned the appropriate model. This uncertainty might seem unmeasurable, but in fact it is, and [Yarin Gal and collaborators](https://arxiv.org/pdf/1506.02142.pdf) have shown that by training a neural network model with dropout we have incidentally implemented a popular Bayesian technique for doing exactly this. To get uncertainty estimates all we need to do is leave dropout enabled during prediction and generate multiple predictions for each observation. The distribution of the resulting predictions gives us an estimate of the uncertainty associated with our model. We illustrate this below:"
      ]
    },
    {
      "cell_type": "code",
      "metadata": {
        "id": "MN1HZSEbndDI",
        "outputId": "40d685fd-a68e-4dfb-cda9-4fd06cb2797b",
        "colab": {
          "base_uri": "https://localhost:8080/",
          "height": 241
        }
      },
      "source": [
        "import keras\n",
        "import numpy as np\n",
        "\n",
        "\n",
        "# create a dropout layer that stays on even during prediction\n",
        "class MCDropout(keras.layers.Dropout):\n",
        "  def call(self, inputs):\n",
        "    return super().call(inputs, training=True)\n",
        "\n",
        "# create a dropout model that keeps dropout on\n",
        "mc_text_input = Input(shape=(X_train.shape[1],))\n",
        "mc_layer1 = Dense(units=100, activation='relu')(mc_text_input)\n",
        "mc_dropout = MCDropout(0.5)(mc_layer1)\n",
        "mc_output = Dense(units=len(label_encoder.classes_), activation='softmax')(mc_dropout)\n",
        "mc_model = Model(inputs=[mc_text_input], outputs=[mc_output])\n",
        "optimizer = Adam(lr=.001)\n",
        "mc_model.compile(optimizer=optimizer,\n",
        "                loss='categorical_crossentropy',\n",
        "                metrics=['accuracy'])\n",
        "\n",
        "mc_model.fit(x=X_train, y=y_train,\n",
        "             validation_data=(X_valid, y_valid),\n",
        "             batch_size=32, epochs=5)"
      ],
      "execution_count": null,
      "outputs": [
        {
          "output_type": "stream",
          "text": [
            "Train on 18681 samples, validate on 9032 samples\n",
            "Epoch 1/5\n",
            "18681/18681 [==============================] - 4s 213us/step - loss: 1.9910 - acc: 0.5427 - val_loss: 1.3067 - val_acc: 0.6933\n",
            "Epoch 2/5\n",
            "18681/18681 [==============================] - 4s 196us/step - loss: 1.0552 - acc: 0.7461 - val_loss: 1.0515 - val_acc: 0.7411\n",
            "Epoch 3/5\n",
            "18681/18681 [==============================] - 4s 198us/step - loss: 0.7746 - acc: 0.8093 - val_loss: 0.9797 - val_acc: 0.7496\n",
            "Epoch 4/5\n",
            "18681/18681 [==============================] - 4s 199us/step - loss: 0.6105 - acc: 0.8443 - val_loss: 0.9953 - val_acc: 0.7463\n",
            "Epoch 5/5\n",
            "18681/18681 [==============================] - 4s 196us/step - loss: 0.5027 - acc: 0.8688 - val_loss: 1.0162 - val_acc: 0.7446\n"
          ],
          "name": "stdout"
        },
        {
          "output_type": "execute_result",
          "data": {
            "text/plain": [
              "<keras.callbacks.History at 0x7faf90220e10>"
            ]
          },
          "metadata": {
            "tags": []
          },
          "execution_count": 13
        }
      ]
    },
    {
      "cell_type": "code",
      "metadata": {
        "id": "_wSuD92LIrVJ"
      },
      "source": [
        "# sample predictions from our model [n_pred, n_obs, n_codes]\n",
        "y_probas = np.stack([mc_model.predict(X_valid) for sample in range(100)])\n",
        "# recover the \"best predictions\" by averaging over the predicted probabilities\n",
        "y_prob = y_probas.mean(axis=0)\n",
        "# we can also recover the standard deviations\n",
        "y_std = y_probas.std(axis=0)"
      ],
      "execution_count": null,
      "outputs": []
    },
    {
      "cell_type": "markdown",
      "metadata": {
        "id": "apNCoVnwjiX-"
      },
      "source": [
        "Below, we visualize the probability distributions for random narratives in our validation data.atives."
      ]
    },
    {
      "cell_type": "code",
      "metadata": {
        "id": "5unyPF0saJyW",
        "outputId": "47374037-7589-4c63-ff06-c6c458b42457",
        "colab": {
          "base_uri": "https://localhost:8080/",
          "height": 386
        }
      },
      "source": [
        "%matplotlib inline\n",
        "from matplotlib import pyplot as plt\n",
        "import random\n",
        "\n",
        "# grab a random narrative in our validation set\n",
        "obs_index = random.randint(0, len(df_valid))\n",
        "# display the narrative\n",
        "print(df_valid.iloc[obs_index]['NARRATIVE'])\n",
        "# get the predicted code (the highest probability code as averaged over our samples)\n",
        "pred_code = label_encoder.inverse_transform(y_prob)[obs_index]\n",
        "print('PREDICTED:', pred_code)\n",
        "# get the correct code\n",
        "print('CORRECT:', df_valid.iloc[obs_index]['INJ_BODY_PART'])\n",
        "code_index = y_prob.argmax(axis=1)[obs_index]\n",
        "# display the mean probability associated with that code\n",
        "print('PROB:', y_prob[obs_index][code_index])\n",
        "# display the standard deviation associated with our sample probabilities\n",
        "print('STD:', y_std[obs_index][code_index])\n",
        "# create a histogram of the sampled probabilities for this code\n",
        "n, bins, patches = plt.hist(y_probas[:, obs_index, code_index])\n",
        "plt.xlim(0,1)\n",
        "txt = plt.title(f'Histogram of P(code={pred_code})')"
      ],
      "execution_count": null,
      "outputs": [
        {
          "output_type": "stream",
          "text": [
            "Employee reported that when he was stepping out of young buggy, he turned to walk away & twisted his ankle when he stepped on a rock. He thought he was ok until later in day (5:15pm) he noticed his ankle was swollen. We took him to medic, then to ER. Doctor issued restrictions.\n",
            "PREDICTED: ANKLE\n",
            "CORRECT: ANKLE\n",
            "PROB: 0.9936971\n",
            "STD: 0.014043883\n"
          ],
          "name": "stdout"
        },
        {
          "output_type": "display_data",
          "data": {
            "image/png": "[encoded data removed]",
            "text/plain": [
              "<Figure size 432x288 with 1 Axes>"
            ]
          },
          "metadata": {
            "tags": []
          }
        }
      ]
    },
    {
      "cell_type": "code",
      "metadata": {
        "id": "86bR6Ubg-oWa"
      },
      "source": [
        "# get the standard deviation just for the predicted code\n",
        "y_pred_std = y_std[range(len(y_prob)), y_prob.argmax(axis=1)]"
      ],
      "execution_count": null,
      "outputs": []
    },
    {
      "cell_type": "code",
      "metadata": {
        "id": "YQfZrXKU0-Jz",
        "outputId": "1f30e50b-c43f-4034-e3f7-2e6454e98429",
        "colab": {
          "base_uri": "https://localhost:8080/",
          "height": 716
        }
      },
      "source": [
        "df_valid['BAYES_PRED'] = label_encoder.inverse_transform(y_prob)\n",
        "df_valid['BAYES_PROB'] = y_prob.max(axis=1)\n",
        "df_valid['BAYES_STD'] = np.round(y_pred_std, 2)\n",
        "df_valid[['NARRATIVE', 'PREDICTED_PART', 'PREDICTED_PROB',\n",
        "          'BAYES_PRED', 'BAYES_PROB', 'BAYES_STD']].sample(10)"
      ],
      "execution_count": null,
      "outputs": [
        {
          "output_type": "execute_result",
          "data": {
            "text/html": [
              "<div>\n",
              "<style scoped>\n",
              "    .dataframe tbody tr th:only-of-type {\n",
              "        vertical-align: middle;\n",
              "    }\n",
              "\n",
              "    .dataframe tbody tr th {\n",
              "        vertical-align: top;\n",
              "    }\n",
              "\n",
              "    .dataframe thead th {\n",
              "        text-align: right;\n",
              "    }\n",
              "</style>\n",
              "<table border=\"1\" class=\"dataframe\">\n",
              "  <thead>\n",
              "    <tr style=\"text-align: right;\">\n",
              "      <th></th>\n",
              "      <th>NARRATIVE</th>\n",
              "      <th>PREDICTED_PART</th>\n",
              "      <th>PREDICTED_PROB</th>\n",
              "      <th>BAYES_PRED</th>\n",
              "      <th>BAYES_PROB</th>\n",
              "      <th>BAYES_STD</th>\n",
              "    </tr>\n",
              "  </thead>\n",
              "  <tbody>\n",
              "    <tr>\n",
              "      <th>15196</th>\n",
              "      <td>EE was taking back cover off engine compartmen...</td>\n",
              "      <td>FINGER(S)/THUMB</td>\n",
              "      <td>0.991273</td>\n",
              "      <td>FINGER(S)/THUMB</td>\n",
              "      <td>0.982416</td>\n",
              "      <td>0.02</td>\n",
              "    </tr>\n",
              "    <tr>\n",
              "      <th>37651</th>\n",
              "      <td>Diagnosed with Noise Induced Hearing Loss of 0...</td>\n",
              "      <td>EAR(S) INTERNAL &amp; HEARING</td>\n",
              "      <td>0.999574</td>\n",
              "      <td>EAR(S) INTERNAL &amp; HEARING</td>\n",
              "      <td>0.993225</td>\n",
              "      <td>0.01</td>\n",
              "    </tr>\n",
              "    <tr>\n",
              "      <th>12628</th>\n",
              "      <td>The miner was performing the routine task of c...</td>\n",
              "      <td>KNEE/PATELLA</td>\n",
              "      <td>0.993153</td>\n",
              "      <td>KNEE/PATELLA</td>\n",
              "      <td>0.958642</td>\n",
              "      <td>0.06</td>\n",
              "    </tr>\n",
              "    <tr>\n",
              "      <th>13177</th>\n",
              "      <td>Employee was pulling a water hose, and slipped...</td>\n",
              "      <td>BACK (MUSCLES/SPINE/S-CORD/TAILBONE)</td>\n",
              "      <td>0.326105</td>\n",
              "      <td>BACK (MUSCLES/SPINE/S-CORD/TAILBONE)</td>\n",
              "      <td>0.375066</td>\n",
              "      <td>0.16</td>\n",
              "    </tr>\n",
              "    <tr>\n",
              "      <th>15209</th>\n",
              "      <td>Employee was cutting a rock dust bag when the ...</td>\n",
              "      <td>HAND (NOT WRIST OR FINGERS)</td>\n",
              "      <td>0.576142</td>\n",
              "      <td>HAND (NOT WRIST OR FINGERS)</td>\n",
              "      <td>0.516808</td>\n",
              "      <td>0.27</td>\n",
              "    </tr>\n",
              "    <tr>\n",
              "      <th>33895</th>\n",
              "      <td>The employee was doing the walk around inspect...</td>\n",
              "      <td>ANKLE</td>\n",
              "      <td>0.700591</td>\n",
              "      <td>ANKLE</td>\n",
              "      <td>0.708067</td>\n",
              "      <td>0.17</td>\n",
              "    </tr>\n",
              "    <tr>\n",
              "      <th>38077</th>\n",
              "      <td>While changing cat tracks on the Bobcat, he wa...</td>\n",
              "      <td>FINGER(S)/THUMB</td>\n",
              "      <td>0.999996</td>\n",
              "      <td>FINGER(S)/THUMB</td>\n",
              "      <td>0.999933</td>\n",
              "      <td>0.00</td>\n",
              "    </tr>\n",
              "    <tr>\n",
              "      <th>17737</th>\n",
              "      <td>Received a CWP claim for employee on 4/10/2012</td>\n",
              "      <td>CHEST (RIBS/BREAST BONE/CHEST ORGNS)</td>\n",
              "      <td>0.692692</td>\n",
              "      <td>CHEST (RIBS/BREAST BONE/CHEST ORGNS)</td>\n",
              "      <td>0.699599</td>\n",
              "      <td>0.15</td>\n",
              "    </tr>\n",
              "    <tr>\n",
              "      <th>21344</th>\n",
              "      <td>EE at job site watching turbine pump. EE felt ...</td>\n",
              "      <td>BODY SYSTEMS</td>\n",
              "      <td>0.995118</td>\n",
              "      <td>BODY SYSTEMS</td>\n",
              "      <td>0.988378</td>\n",
              "      <td>0.02</td>\n",
              "    </tr>\n",
              "    <tr>\n",
              "      <th>19492</th>\n",
              "      <td>The Blast Crew was preparing for a development...</td>\n",
              "      <td>WRIST</td>\n",
              "      <td>0.993229</td>\n",
              "      <td>WRIST</td>\n",
              "      <td>0.977233</td>\n",
              "      <td>0.09</td>\n",
              "    </tr>\n",
              "  </tbody>\n",
              "</table>\n",
              "</div>"
            ],
            "text/plain": [
              "                                               NARRATIVE  ... BAYES_STD\n",
              "15196  EE was taking back cover off engine compartmen...  ...      0.02\n",
              "37651  Diagnosed with Noise Induced Hearing Loss of 0...  ...      0.01\n",
              "12628  The miner was performing the routine task of c...  ...      0.06\n",
              "13177  Employee was pulling a water hose, and slipped...  ...      0.16\n",
              "15209  Employee was cutting a rock dust bag when the ...  ...      0.27\n",
              "33895  The employee was doing the walk around inspect...  ...      0.17\n",
              "38077  While changing cat tracks on the Bobcat, he wa...  ...      0.00\n",
              "17737     Received a CWP claim for employee on 4/10/2012  ...      0.15\n",
              "21344  EE at job site watching turbine pump. EE felt ...  ...      0.02\n",
              "19492  The Blast Crew was preparing for a development...  ...      0.09\n",
              "\n",
              "[10 rows x 6 columns]"
            ]
          },
          "metadata": {
            "tags": []
          },
          "execution_count": 17
        }
      ]
    },
    {
      "cell_type": "markdown",
      "metadata": {
        "collapsed": true,
        "id": "PGpqI_-_LdpQ"
      },
      "source": [
        "# When and why do deep neural networks work?\n",
        "It's still a mystery, but hints are starting to emerge. For example, [[1]](https://arxiv.org/pdf/1608.08225.pdf) points out that hierarchical and compositional relationships are very common in nature and deep neural networks can represent these relationships with exponentially fewer parameters than shallow networks (linear models). It can also be shown that neural networks are universal function approximators, in other words they can approximate any relationship between inputs and outputs to any degree of precision.\n",
        "\n",
        "In general, deep neural networks seem to work best on tasks where the input contains large amounts of extraneous noise, such as image and speech understanding (not math or logic)."
      ]
    },
    {
      "cell_type": "markdown",
      "metadata": {
        "id": "3FerKuE__12Q"
      },
      "source": [
        "# Next Lesson\n",
        "\n",
        "[Convolutional Neural Networks](https://colab.research.google.com/drive/1Bck3x0znv61uDSkZIT5pAdO_oyWaUPup)"
      ]
    },
    {
      "cell_type": "code",
      "metadata": {
        "id": "uD_IolOG_uem"
      },
      "source": [],
      "execution_count": null,
      "outputs": []
    }
  ]
}